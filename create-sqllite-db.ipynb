{
 "cells": [
  {
   "cell_type": "code",
   "execution_count": 22,
   "metadata": {},
   "outputs": [],
   "source": [
    "import pandas as pd\n",
    "from pandas import DataFrame\n",
    "import sqlite3"
   ]
  },
  {
   "cell_type": "code",
   "execution_count": 23,
   "metadata": {},
   "outputs": [],
   "source": [
    "conn = sqlite3.connect('nba.db')\n",
    "c = conn.cursor()"
   ]
  },
  {
   "cell_type": "code",
   "execution_count": 24,
   "metadata": {},
   "outputs": [],
   "source": [
    "nba_2017_real_plus_minus = pd.read_csv('nba_2017_real_plus_minus.csv')\n",
    "nba_2017_real_plus_minus.to_sql('nba_2017_real_plus_minus', conn, if_exists='replace', index = False)"
   ]
  },
  {
   "cell_type": "code",
   "execution_count": 25,
   "metadata": {},
   "outputs": [],
   "source": [
    "nba_2016_2017_100 = pd.read_csv('social-power-nba data/nba_2016_2017_100.csv')\n",
    "nba_2016_2017_100.to_sql('nba_2016_2017_100', conn, if_exists='replace', index = False)"
   ]
  },
  {
   "cell_type": "code",
   "execution_count": 26,
   "metadata": {},
   "outputs": [
    {
     "name": "stderr",
     "output_type": "stream",
     "text": [
      "c:\\users\\skinnms\\appdata\\local\\programs\\python\\python36\\lib\\site-packages\\pandas\\core\\generic.py:2712: UserWarning: The spaces in these column names will not be changed. In pandas versions < 0.14, spaces were converted to underscores.\n",
      "  method=method,\n"
     ]
    }
   ],
   "source": [
    "nba_2017_att_val = pd.read_csv('social-power-nba data/nba_2017_att_val.csv')\n",
    "nba_2017_att_val.to_sql('nba_2017_att_val', conn, if_exists='replace', index = False)"
   ]
  },
  {
   "cell_type": "code",
   "execution_count": 27,
   "metadata": {},
   "outputs": [],
   "source": [
    "nba_2017_att_val_elo = pd.read_csv('social-power-nba data/nba_2017_att_val_elo.csv')\n",
    "nba_2017_att_val_elo.to_sql('nba_2017_att_val_elo', conn, if_exists='replace', index = False)"
   ]
  },
  {
   "cell_type": "code",
   "execution_count": 28,
   "metadata": {},
   "outputs": [],
   "source": [
    "nba_2017_att_val_elo_with_cluster = pd.read_csv('social-power-nba data/nba_2017_att_val_elo_with_cluster.csv')\n",
    "nba_2017_att_val_elo_with_cluster.to_sql('nba_2017_att_val_elo_with_cluster', conn, if_exists='replace', index = False)"
   ]
  },
  {
   "cell_type": "code",
   "execution_count": 29,
   "metadata": {},
   "outputs": [],
   "source": [
    "nba_2017_attendance = pd.read_csv('social-power-nba data/nba_2017_attendance.csv')\n",
    "nba_2017_attendance.to_sql('nba_2017_attendance', conn, if_exists='replace', index = False)"
   ]
  },
  {
   "cell_type": "code",
   "execution_count": 30,
   "metadata": {},
   "outputs": [],
   "source": [
    "nba_2017_br = pd.read_csv('social-power-nba data/nba_2017_br.csv')\n",
    "nba_2017_br.to_sql('nba_2017_br', conn, if_exists='replace', index = False)"
   ]
  },
  {
   "cell_type": "code",
   "execution_count": 31,
   "metadata": {},
   "outputs": [],
   "source": [
    "nba_2017_elo = pd.read_csv('social-power-nba data/nba_2017_elo.csv')\n",
    "nba_2017_elo.to_sql('nba_2017_elo', conn, if_exists='replace', index = False)"
   ]
  },
  {
   "cell_type": "code",
   "execution_count": 32,
   "metadata": {},
   "outputs": [],
   "source": [
    "nba_2017_endorsements = pd.read_csv('social-power-nba data/nba_2017_endorsements.csv')\n",
    "nba_2017_endorsements.to_sql('nba_2017_endorsements', conn, if_exists='replace', index = False)"
   ]
  },
  {
   "cell_type": "code",
   "execution_count": 33,
   "metadata": {},
   "outputs": [],
   "source": [
    "nba_2017_nba_players_with_salary = pd.read_csv('social-power-nba data/nba_2017_nba_players_with_salary.csv')\n",
    "nba_2017_nba_players_with_salary.to_sql('nba_2017_nba_players_with_salary', conn, if_exists='replace', index = False)"
   ]
  },
  {
   "cell_type": "code",
   "execution_count": 34,
   "metadata": {},
   "outputs": [],
   "source": [
    "nba_2017_pie = pd.read_csv('social-power-nba data/nba_2017_pie.csv')\n",
    "nba_2017_pie.to_sql('nba_2017_pie', conn, if_exists='replace', index = False)"
   ]
  },
  {
   "cell_type": "code",
   "execution_count": 35,
   "metadata": {},
   "outputs": [],
   "source": [
    "nba_2017_player_wikipedia = pd.read_csv('social-power-nba data/nba_2017_player_wikipedia.csv')\n",
    "nba_2017_player_wikipedia.to_sql('nba_2017_player_wikipedia', conn, if_exists='replace', index = False)"
   ]
  },
  {
   "cell_type": "code",
   "execution_count": 36,
   "metadata": {},
   "outputs": [],
   "source": [
    "nba_2017_players_stats_combined = pd.read_csv('social-power-nba data/nba_2017_players_stats_combined.csv')\n",
    "nba_2017_players_stats_combined.to_sql('nba_2017_players_stats_combined', conn, if_exists='replace', index = False)"
   ]
  },
  {
   "cell_type": "code",
   "execution_count": 37,
   "metadata": {},
   "outputs": [],
   "source": [
    "nba_2017_players_with_salary_wiki_twitter = pd.read_csv('social-power-nba data/nba_2017_players_with_salary_wiki_twitter.csv')\n",
    "nba_2017_players_with_salary_wiki_twitter.to_sql('nba_2017_players_with_salary_wiki_twitter', conn, if_exists='replace', index = False)"
   ]
  },
  {
   "cell_type": "code",
   "execution_count": 38,
   "metadata": {},
   "outputs": [],
   "source": [
    "nba_2017_team_valuations = pd.read_csv('social-power-nba data/nba_2017_team_valuations.csv')\n",
    "nba_2017_team_valuations.to_sql('nba_2017_team_valuations', conn, if_exists='replace', index = False)"
   ]
  },
  {
   "cell_type": "code",
   "execution_count": 39,
   "metadata": {},
   "outputs": [],
   "source": [
    "conn.commit()"
   ]
  },
  {
   "cell_type": "code",
   "execution_count": 46,
   "metadata": {},
   "outputs": [
    {
     "data": {
      "text/html": [
       "<div>\n",
       "<style scoped>\n",
       "    .dataframe tbody tr th:only-of-type {\n",
       "        vertical-align: middle;\n",
       "    }\n",
       "\n",
       "    .dataframe tbody tr th {\n",
       "        vertical-align: top;\n",
       "    }\n",
       "\n",
       "    .dataframe thead th {\n",
       "        text-align: right;\n",
       "    }\n",
       "</style>\n",
       "<table border=\"1\" class=\"dataframe\">\n",
       "  <thead>\n",
       "    <tr style=\"text-align: right;\">\n",
       "      <th></th>\n",
       "      <th>0</th>\n",
       "      <th>1</th>\n",
       "      <th>2</th>\n",
       "      <th>3</th>\n",
       "      <th>4</th>\n",
       "      <th>5</th>\n",
       "      <th>6</th>\n",
       "      <th>7</th>\n",
       "      <th>8</th>\n",
       "      <th>9</th>\n",
       "      <th>...</th>\n",
       "      <th>32</th>\n",
       "      <th>33</th>\n",
       "      <th>34</th>\n",
       "      <th>35</th>\n",
       "      <th>36</th>\n",
       "      <th>37</th>\n",
       "      <th>38</th>\n",
       "      <th>39</th>\n",
       "      <th>40</th>\n",
       "      <th>41</th>\n",
       "    </tr>\n",
       "  </thead>\n",
       "  <tbody>\n",
       "    <tr>\n",
       "      <th>0</th>\n",
       "      <td>0</td>\n",
       "      <td>1</td>\n",
       "      <td>Russell Westbrook</td>\n",
       "      <td>PG</td>\n",
       "      <td>28</td>\n",
       "      <td>34.6</td>\n",
       "      <td>10.2</td>\n",
       "      <td>24.0</td>\n",
       "      <td>0.425</td>\n",
       "      <td>2.5</td>\n",
       "      <td>...</td>\n",
       "      <td>-0.47</td>\n",
       "      <td>6.27</td>\n",
       "      <td>17.34</td>\n",
       "      <td>23.0</td>\n",
       "      <td>102.31</td>\n",
       "      <td>46</td>\n",
       "      <td>26.50</td>\n",
       "      <td>4279.0</td>\n",
       "      <td>2130.5</td>\n",
       "      <td>559.0</td>\n",
       "    </tr>\n",
       "    <tr>\n",
       "      <th>1</th>\n",
       "      <td>1</td>\n",
       "      <td>2</td>\n",
       "      <td>James Harden</td>\n",
       "      <td>PG</td>\n",
       "      <td>27</td>\n",
       "      <td>36.4</td>\n",
       "      <td>8.3</td>\n",
       "      <td>18.9</td>\n",
       "      <td>0.440</td>\n",
       "      <td>3.2</td>\n",
       "      <td>...</td>\n",
       "      <td>-1.57</td>\n",
       "      <td>4.81</td>\n",
       "      <td>15.54</td>\n",
       "      <td>19.0</td>\n",
       "      <td>102.98</td>\n",
       "      <td>54</td>\n",
       "      <td>26.50</td>\n",
       "      <td>3279.0</td>\n",
       "      <td>969.0</td>\n",
       "      <td>321.5</td>\n",
       "    </tr>\n",
       "    <tr>\n",
       "      <th>2</th>\n",
       "      <td>2</td>\n",
       "      <td>4</td>\n",
       "      <td>Anthony Davis</td>\n",
       "      <td>C</td>\n",
       "      <td>23</td>\n",
       "      <td>36.1</td>\n",
       "      <td>10.3</td>\n",
       "      <td>20.3</td>\n",
       "      <td>0.505</td>\n",
       "      <td>0.5</td>\n",
       "      <td>...</td>\n",
       "      <td>3.90</td>\n",
       "      <td>4.35</td>\n",
       "      <td>12.81</td>\n",
       "      <td>19.2</td>\n",
       "      <td>100.19</td>\n",
       "      <td>31</td>\n",
       "      <td>22.12</td>\n",
       "      <td>82.5</td>\n",
       "      <td>368.0</td>\n",
       "      <td>104.0</td>\n",
       "    </tr>\n",
       "    <tr>\n",
       "      <th>3</th>\n",
       "      <td>3</td>\n",
       "      <td>6</td>\n",
       "      <td>DeMarcus Cousins</td>\n",
       "      <td>C</td>\n",
       "      <td>26</td>\n",
       "      <td>34.2</td>\n",
       "      <td>9.0</td>\n",
       "      <td>19.9</td>\n",
       "      <td>0.452</td>\n",
       "      <td>1.8</td>\n",
       "      <td>...</td>\n",
       "      <td>0.64</td>\n",
       "      <td>4.20</td>\n",
       "      <td>11.26</td>\n",
       "      <td>17.8</td>\n",
       "      <td>97.11</td>\n",
       "      <td>30</td>\n",
       "      <td>16.96</td>\n",
       "      <td>1625.5</td>\n",
       "      <td>102.0</td>\n",
       "      <td>91.5</td>\n",
       "    </tr>\n",
       "    <tr>\n",
       "      <th>4</th>\n",
       "      <td>4</td>\n",
       "      <td>7</td>\n",
       "      <td>Damian Lillard</td>\n",
       "      <td>PG</td>\n",
       "      <td>26</td>\n",
       "      <td>35.9</td>\n",
       "      <td>8.8</td>\n",
       "      <td>19.8</td>\n",
       "      <td>0.444</td>\n",
       "      <td>2.9</td>\n",
       "      <td>...</td>\n",
       "      <td>-1.49</td>\n",
       "      <td>3.14</td>\n",
       "      <td>10.72</td>\n",
       "      <td>15.9</td>\n",
       "      <td>99.68</td>\n",
       "      <td>38</td>\n",
       "      <td>24.33</td>\n",
       "      <td>1830.5</td>\n",
       "      <td>186.5</td>\n",
       "      <td>43.0</td>\n",
       "    </tr>\n",
       "  </tbody>\n",
       "</table>\n",
       "<p>5 rows × 42 columns</p>\n",
       "</div>"
      ],
      "text/plain": [
       "   0   1                  2   3   4     5     6     7      8    9   ...    32  \\\n",
       "0   0   1  Russell Westbrook  PG  28  34.6  10.2  24.0  0.425  2.5  ... -0.47   \n",
       "1   1   2       James Harden  PG  27  36.4   8.3  18.9  0.440  3.2  ... -1.57   \n",
       "2   2   4      Anthony Davis   C  23  36.1  10.3  20.3  0.505  0.5  ...  3.90   \n",
       "3   3   6   DeMarcus Cousins   C  26  34.2   9.0  19.9  0.452  1.8  ...  0.64   \n",
       "4   4   7     Damian Lillard  PG  26  35.9   8.8  19.8  0.444  2.9  ... -1.49   \n",
       "\n",
       "     33     34    35      36  37     38      39      40     41  \n",
       "0  6.27  17.34  23.0  102.31  46  26.50  4279.0  2130.5  559.0  \n",
       "1  4.81  15.54  19.0  102.98  54  26.50  3279.0   969.0  321.5  \n",
       "2  4.35  12.81  19.2  100.19  31  22.12    82.5   368.0  104.0  \n",
       "3  4.20  11.26  17.8   97.11  30  16.96  1625.5   102.0   91.5  \n",
       "4  3.14  10.72  15.9   99.68  38  24.33  1830.5   186.5   43.0  \n",
       "\n",
       "[5 rows x 42 columns]"
      ]
     },
     "execution_count": 46,
     "metadata": {},
     "output_type": "execute_result"
    }
   ],
   "source": [
    "# test\n",
    "c.execute('''SELECT * FROM nba_2017_players_with_salary_wiki_twitter''')\n",
    "df = DataFrame(c.fetchall())\n",
    "df.head()"
   ]
  },
  {
   "cell_type": "code",
   "execution_count": null,
   "metadata": {},
   "outputs": [],
   "source": []
  }
 ],
 "metadata": {
  "kernelspec": {
   "display_name": "Python 3",
   "language": "python",
   "name": "python3"
  },
  "language_info": {
   "codemirror_mode": {
    "name": "ipython",
    "version": 3
   },
   "file_extension": ".py",
   "mimetype": "text/x-python",
   "name": "python",
   "nbconvert_exporter": "python",
   "pygments_lexer": "ipython3",
   "version": "3.6.8"
  }
 },
 "nbformat": 4,
 "nbformat_minor": 4
}
